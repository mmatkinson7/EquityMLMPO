{
 "cells": [
  {
   "cell_type": "markdown",
   "id": "ee55903d",
   "metadata": {},
   "source": [
    "## Exploring Equity Classifications with Machine Learning\n",
    "### Proposal\n",
    "DATE: May 20, 2021\n",
    "\n",
    "TO: Annette Demchur, Rebecca Morgan\n",
    "\n",
    "FROM: Margaret Atkinson\n",
    "\n",
    "RE: Staff Initiated Study Proposal:\n",
    "\n",
    "#### Exploring Equity Classifications with Machine Learning\n",
    "\n",
    "I would like to conduct research to answer the following question: Could an\n",
    "unsupervised machine learning algorithm create groups of towns based on\n",
    "demographic information that would be useful to explore questions about equity? To\n",
    "explain, when we compare all towns that pass the minority threshold (or TAZs or block\n",
    "groups etc.) to all towns that do not, we may be missing the way the demographic\n",
    "variables interact and a multifactored grouping could allow us to explore the\n",
    "demographic towns with a more detailed approach without the blending nature of an\n",
    "index.\n",
    "\n",
    "This project would use python and specifically the Scikit-Learn python library to\n",
    "conduct unsupervised machine learning based on demographic data at the town level.\n",
    "The data would be demographic Census data from the American Community Survey 5-\n",
    "year estimates at minimum on the topics of: Race/Ethnicity, Limited English Proficiency,\n",
    "Median Income, Low Income, No Car Households, Population Density, Children, and\n",
    "Seniors. The product would be a geographic file that shows groupings of towns by\n",
    "demographic profile as found by the unsupervised machine learning algorithm as well\n",
    "as a written description of what each grouping represents.\n",
    "\n",
    "If the question is pursued and the results are useful - the ultimate intention (as a\n",
    "follow up project) would be to look at the way MPO distributes funding between the\n",
    "groups and within each group to look for disparities. Explanations of disparities could\n",
    "lead to a re-examination of the variables used in the algorithm in order to provide\n",
    "an additional check for equitable spending.\n"
   ]
  },
  {
   "cell_type": "markdown",
   "id": "dfe51e47",
   "metadata": {},
   "source": [
    "Towns in the MPO\n",
    "BRMPO <- c(\"Beverly\",\"Boston\",\"Braintree\",\"Cambridge\",\"Chelsea\",\"Everett\",\"Framingham\",\"Franklin\",\"Gloucester\",\"Lynn\",\"Malden\",\"Marlborough\",\"Medford\",\"Melrose\",\"Newton\",\"Peabody\",\"Quincy\",\"Revere\",\"Salem\",\"Somerville\",\"Waltham\",\"Watertown\",\"Weymouth\",\"Woburn\",\"Acton\",\"Arlington\",\"Ashland\",\"Bedford\",\"Bellingham\",\"Belmont\",\"Bolton\",\"Boxborough\",\"Brookline\",\"Burlington\",\"Canton\",\"Carlisle\",\"Cohasset\",\"Concord\",\"Danvers\",\"Dedham\",\"Dover\",\"Essex\",\"Foxborough\",\"Hamilton\",\"Hingham\",\"Holbrook\",\"Holliston\",\"Hopkinton\",\"Hudson\",\"Hull\",\"Ipswich”,\"Lexington\",\"Lincoln\",\"Littleton\",\"Lynnfield\",\"Manchester-by-the-Sea\",\"Marblehead\",\"Marshfield\",\"Maynard\",\"Medfield\",           \"Medway\",\"Middleton\",\"Milford\",\"Millis\",\"Milton\",\"Nahant\",\"Natick\",\"Needham\",\"Norfolk\",\"North Reading\",\"Norwell\",\"Norwood\",\"Randolph\",\"Reading\",\"Rockland\",\"Rockport\",\"Saugus\",\"Scituate\",\"Sharon\",\"Sherborn\",\"Southborough\",\"Stoneham\",\"Stow\",\"Sudbury\",\"Swampscott\",\"Topsfield\",\"Wakefield\",\"Walpole\",\"Wayland\",\"Wellesley\",\"Wenham\",\"Weston\",\"Westwood\",\"Wilmington\",\"Winchester\",\"Winthrop\",\"Wrentham\")\n",
    "\n",
    "Algorithms\n",
    "K-means with K-means++ as initialization of seeding\n",
    "Only deterministic if the seeds are always the same, which K-means++ does not guarantee.\n",
    "DBSCAN\n",
    "\n",
    "\n",
    "Spectral Clustering\n",
    "Fully deterministic\n"
   ]
  },
  {
   "cell_type": "code",
   "execution_count": null,
   "id": "9eed8c91",
   "metadata": {},
   "outputs": [],
   "source": []
  }
 ],
 "metadata": {
  "kernelspec": {
   "display_name": "Python [conda env:py37] *",
   "language": "python",
   "name": "conda-env-py37-py"
  },
  "language_info": {
   "codemirror_mode": {
    "name": "ipython",
    "version": 3
   },
   "file_extension": ".py",
   "mimetype": "text/x-python",
   "name": "python",
   "nbconvert_exporter": "python",
   "pygments_lexer": "ipython3",
   "version": "3.7.10"
  }
 },
 "nbformat": 4,
 "nbformat_minor": 5
}
